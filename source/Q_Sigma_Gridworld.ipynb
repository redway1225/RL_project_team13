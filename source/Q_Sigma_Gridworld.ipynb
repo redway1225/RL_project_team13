{
 "cells": [
  {
   "cell_type": "code",
   "execution_count": 1,
   "metadata": {},
   "outputs": [],
   "source": [
    "import gym\n",
    "import gym_windy_gridworlds\n",
    "env = gym.make('StochWindyGridWorld-v0')\n",
    "# git clone https://github.com/ibrahim-elshar/gym-windy-gridworlds.git\n",
    "# cd gym-windy-gridworlds\n",
    "# pip install -e .\n",
    "\n",
    "from collections import defaultdict\n",
    "import numpy as np\n",
    "import matplotlib.pyplot as plt\n",
    "import pandas as pd\n",
    "\n",
    "# # of states except for terminal states\n",
    "N_STATES = env.observation_space[0].n * env.observation_space[1].n\n",
    "\n",
    "# all states\n",
    "STATES = np.arange(0, N_STATES)\n",
    "\n",
    "# possible actions\n",
    "ACTIONS = [0,1,2,3]\n",
    "\n",
    "# maximum stride for an action\n",
    "STEP_RANGE = 1\n",
    "\n",
    "def make_epsilon_greedy_policy(Q, nA, epsilon):\n",
    "\n",
    "    def policy_fn(observation):\n",
    "        A = np.ones(nA, dtype=float) * epsilon/nA\n",
    "        best_action = np.argmax(Q[observation])\n",
    "        A[best_action] += ( 1.0 - epsilon)\n",
    "        return A\n",
    "\n",
    "    return policy_fn"
   ]
  },
  {
   "cell_type": "code",
   "execution_count": 2,
   "metadata": {},
   "outputs": [],
   "source": [
    "T = 1000\n",
    "n = 3\n",
    "alpha = 0.5\n",
    "sigma = 0.25\n",
    "gamma = 1.0\n",
    "discount_sigma = 0.9"
   ]
  },
  {
   "cell_type": "code",
   "execution_count": 3,
   "metadata": {},
   "outputs": [],
   "source": [
    "def Q_sigma(env, num_episodes, sigma):\n",
    "    d_sigma = False\n",
    "    if sigma == -1 :\n",
    "        d_sigma = True\n",
    "    Q = defaultdict(lambda : np.zeros(len(ACTIONS)))\n",
    "    policy = make_epsilon_greedy_policy(Q, len(ACTIONS),epsilon = 0.1)\n",
    "    total_reward = [0.0]*num_episodes\n",
    "    for i_episode in range(num_episodes):\n",
    "        state = env.reset()\n",
    "        if d_sigma :\n",
    "            sigma = discount_sigma ** i_episode\n",
    "        actions = []\n",
    "        states = []\n",
    "        deltas = []\n",
    "        pis = []\n",
    "        Qs = []\n",
    "        ps = []\n",
    "        \n",
    "#         state = START_STATE[0]*10 + START_STATE[1]\n",
    "        action_probs = policy(state)\n",
    "        action = np.random.choice(np.arange(len(action_probs)), p = action_probs)\n",
    "        \n",
    "        states.append(state)\n",
    "        actions.append(action)\n",
    "        pis.append(action_probs[action])\n",
    "        Qs.append(Q[state][action])\n",
    "        ps.append(policy(state)[action]/policy(state)[action])\n",
    "        \n",
    "        # step within each episode\n",
    "        final_time = 0\n",
    "        for t in range(T) :\n",
    "            next_state, reward ,done,_ = env.step(action)\n",
    "            total_reward[i_episode] += reward\n",
    "#             next_state = next_state[0]*10 + next_state[1]\n",
    "            states.append(next_state)\n",
    "            if done :\n",
    "#                 print(t,total_reward[i_episode])\n",
    "                deltas.append(reward - Q[state][action])\n",
    "#                 total_reward[i_episode] /= (t+1)\n",
    "            else : \n",
    "                # Select next action\n",
    "                next_action_probs = policy(next_state)\n",
    "                next_action = np.random.choice(np.arange(len(next_action_probs)), p = next_action_probs)\n",
    "\n",
    "                # Store\n",
    "                actions.append(next_action)\n",
    "                Qs.append(Q[next_state][next_action])\n",
    "                pis.append(policy(next_state)[next_action])\n",
    "                V_next = next_action_probs[0] * Q[next_state][0] + next_action_probs[1] * Q[next_state][1] + next_action_probs[2] * Q[next_state][2] + next_action_probs[3] * Q[next_state][3]\n",
    "                deltas.append(reward + gamma*(sigma*Q[next_state][next_action] + (1-sigma)*V_next) - Q[state][action])\n",
    "                action = next_action\n",
    "                state = next_state\n",
    "                ps.append(policy(next_state)[next_action]/policy(next_state)[next_action])\n",
    "            # Update within each step\n",
    "            tau = t - n + 1\n",
    "            if tau >= 0:\n",
    "                p = 1.0\n",
    "                E = 1.0\n",
    "                G = Q[states[tau]][actions[tau]]\n",
    "                for k in range(tau,t+1):\n",
    "                    G = G + E*deltas[k]\n",
    "                    E = gamma*E*((1-sigma)*pis[k] + sigma)\n",
    "                    p = p*(1-sigma + sigma*ps[k])\n",
    "                Q[states[tau]][actions[tau]] += alpha*p*(G - Q[states[tau]][actions[tau]])\n",
    "            if done :\n",
    "                break\n",
    "        for i in range(t-n+1,t+1):\n",
    "            p = 1.0\n",
    "            E = 1.0\n",
    "            G = Q[states[i]][actions[i]]\n",
    "            for k in range(i,t+1):\n",
    "                G = G + E*deltas[k]\n",
    "                E = gamma*E*((1-sigma)*pis[k] + sigma)\n",
    "                p = p*(1-sigma + sigma*ps[k])\n",
    "#                 print(i,k,len(deltas))\n",
    "            Q[states[i]][actions[i]] += alpha*p*(G - Q[states[i]][actions[i]])\n",
    "            \n",
    "#         print(i_episode,total_reward[i_episode])\n",
    "    return total_reward"
   ]
  },
  {
   "cell_type": "code",
   "execution_count": 7,
   "metadata": {
    "scrolled": true
   },
   "outputs": [
    {
     "name": "stdout",
     "output_type": "stream",
     "text": [
      "0.0 -998.917\n",
      "0.1 -40.271\n",
      "0.2 -41.72\n",
      "0.30000000000000004 -50.771\n",
      "0.4 -57.826\n",
      "0.5 -81.898\n",
      "0.6000000000000001 -116.12\n",
      "0.7000000000000001 -141.995\n",
      "0.8 -618.845\n"
     ]
    },
    {
     "name": "stderr",
     "output_type": "stream",
     "text": [
      "C:\\ProgramData\\Anaconda3\\lib\\site-packages\\ipykernel_launcher.py:61: RuntimeWarning: overflow encountered in double_scalars\n",
      "C:\\ProgramData\\Anaconda3\\lib\\site-packages\\ipykernel_launcher.py:50: RuntimeWarning: invalid value encountered in double_scalars\n"
     ]
    },
    {
     "name": "stdout",
     "output_type": "stream",
     "text": [
      "0.9 -751.347\n"
     ]
    }
   ],
   "source": [
    "return_1 = []\n",
    "for k in range(10):\n",
    "    alpha = 0.1*k\n",
    "    total_reward_1 = Q_sigma(env,1000,1)\n",
    "    ans = 0.0\n",
    "    for i in range(len(total_reward_1)) :\n",
    "        ans += total_reward_1[i]\n",
    "    ans /= len(total_reward_1)\n",
    "    return_1.append(ans)\n",
    "    print(0.1*k,ans)"
   ]
  },
  {
   "cell_type": "code",
   "execution_count": 9,
   "metadata": {},
   "outputs": [
    {
     "data": {
      "text/plain": [
       "<matplotlib.legend.Legend at 0x1548b42c508>"
      ]
     },
     "execution_count": 9,
     "metadata": {},
     "output_type": "execute_result"
    },
    {
     "data": {
      "image/png": "[encoded data removed]",
      "text/plain": [
       "<Figure size 432x288 with 1 Axes>"
      ]
     },
     "metadata": {
      "needs_background": "light"
     },
     "output_type": "display_data"
    }
   ],
   "source": [
    "df=pd.DataFrame({'x': range(len(return_1)),\n",
    "                 'Q_sigma(1)': return_1\n",
    "                })\n",
    "plt.figure()\n",
    "plt.title('Average Return')\n",
    "plt.plot( 'x', 'Q_sigma(1)', data=df, linewidth=1, label=\"Q_sigma(1)\")\n",
    "plt.legend()"
   ]
  },
  {
   "cell_type": "code",
   "execution_count": null,
   "metadata": {},
   "outputs": [],
   "source": []
  }
 ],
 "metadata": {
  "kernelspec": {
   "display_name": "Python 3",
   "language": "python",
   "name": "python3"
  },
  "language_info": {
   "codemirror_mode": {
    "name": "ipython",
    "version": 3
   },
   "file_extension": ".py",
   "mimetype": "text/x-python",
   "name": "python",
   "nbconvert_exporter": "python",
   "pygments_lexer": "ipython3",
   "version": "3.7.4"
  }
 },
 "nbformat": 4,
 "nbformat_minor": 2
}
